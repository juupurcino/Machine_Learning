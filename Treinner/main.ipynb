{
 "cells": [
  {
   "cell_type": "code",
   "execution_count": 36,
   "metadata": {},
   "outputs": [
    {
     "name": "stdout",
     "output_type": "stream",
     "text": [
      "{'alpha': 0.6, 'l1_ratio': 0.3}\n",
      "494.9134915058146\n",
      "317.7748185303295\n"
     ]
    }
   ],
   "source": [
    "import pandas as pd\n",
    "\n",
    "from joblib import dump\n",
    "\n",
    "from sklearn.metrics import accuracy_score\n",
    "from sklearn.decomposition import PCA\n",
    "from sklearn.linear_model import ElasticNet\n",
    "from sklearn.preprocessing import normalize\n",
    "from sklearn.metrics import mean_absolute_error, r2_score\n",
    "from sklearn.model_selection import train_test_split, GridSearchCV, cross_val_score\n",
    "from sklearn.tree import DecisionTreeClassifier\n",
    "\n",
    "df = pd.read_csv('datashet.csv')\n",
    "\n",
    "df.drop(\n",
    "['Release Group', 'Genres', 'Rating', 'Original_Language', 'Production_Countries'],\n",
    "axis = 1,\n",
    "inplace = True\n",
    ")\n",
    "df.dropna(inplace=True)\n",
    "Y = df['$Foreign']\n",
    "X = df.drop('$Foreign', axis = 1)\n",
    "\n",
    "# scores = cross_val_score(ElasticNet(fit_intercept = True), X, Y, cv = 8)\n",
    "# print(scores)\n",
    "\n",
    "# pca = PCA(n_components = 'mle')\n",
    "# pca.fit(X)\n",
    "# X = pca.transform(X)\n",
    "X_train, X_test, Y_train, Y_test = train_test_split(X, Y, test_size=0.15,\n",
    "random_state=42)\n",
    "\n",
    "# model = GridSearchCV(\n",
    "#     DecisionTreeClassifier(criterion='entropy', random_state=0),\n",
    "#     {\n",
    "#         'max_depth': [3, 5, 10, None],  # Testa várias profundidades\n",
    "#         'min_samples_split': [2, 5, 10],  # Testa diferentes divisões mínimas\n",
    "#         'min_samples_leaf': [1, 2, 4],  # Testa diferentes tamanhos mínimos das folhas\n",
    "#     },\n",
    "#     n_jobs=4\n",
    "# )\n",
    "\n",
    "# model = GridSearchCV(\n",
    "#     DecisionTreeClassifier(criterion='entropy', random_state=0),\n",
    "#     {\n",
    "#         'max_depth': [3, 5, 10, None],  # Testa várias profundidades\n",
    "#         'min_samples_split': [2, 5, 10],  # Diferentes dados por divisões\n",
    "#         'min_samples_leaf': [1, 2, 4],  # Testa diferentes tamanhos mínimos das folhas\n",
    "#     },\n",
    "#     n_jobs=4\n",
    "# )\n",
    "\n",
    "model = GridSearchCV(\n",
    "ElasticNet(fit_intercept = True),\n",
    "{\n",
    "'alpha': [0.1, 0.6, 0.9],\n",
    "'l1_ratio': [0.4, 0.3, 0.8, 1.0],\n",
    "},\n",
    "n_jobs = 4\n",
    ")\n",
    "\n",
    "model.fit(X_train, Y_train)\n",
    "\n",
    "print(model.best_params_)\n",
    "model = model.best_estimator_\n",
    "dump(model, 'model.pkl')\n",
    "\n",
    "# print(accuracy_score(Y_train, model.predict(X_train)))\n",
    "# print(accuracy_score(Y_test, model.predict(X_test)))\n",
    "\n",
    "print(mean_absolute_error(Y_train, model.predict(X_train)))\n",
    "print(mean_absolute_error(Y_test, model.predict(X_test)))"
   ]
  }
 ],
 "metadata": {
  "kernelspec": {
   "display_name": "Python 3",
   "language": "python",
   "name": "python3"
  },
  "language_info": {
   "codemirror_mode": {
    "name": "ipython",
    "version": 3
   },
   "file_extension": ".py",
   "mimetype": "text/x-python",
   "name": "python",
   "nbconvert_exporter": "python",
   "pygments_lexer": "ipython3",
   "version": "3.12.2"
  }
 },
 "nbformat": 4,
 "nbformat_minor": 2
}
